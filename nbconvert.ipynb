{
 "cells": [
  {
   "cell_type": "code",
   "execution_count": 16,
   "metadata": {},
   "outputs": [],
   "source": [
    "from jupyter_core import paths\n",
    "from pathlib import Path\n",
    "import sys\n",
    "import argparse\n",
    "import shlex, subprocess"
   ]
  },
  {
   "cell_type": "code",
   "execution_count": 18,
   "metadata": {},
   "outputs": [
    {
     "name": "stdout",
     "output_type": "stream",
     "text": [
      "[NbConvertApp] Converting notebook nbconvert.ipynb to python\n",
      "[NbConvertApp] Writing 3674 bytes to nbconvert.py\n"
     ]
    }
   ],
   "source": [
    "!jupyter-nbconvert --to python --template python_clean nbconvert.ipynb"
   ]
  },
  {
   "cell_type": "code",
   "execution_count": 42,
   "metadata": {},
   "outputs": [],
   "source": [
    "def install_templates(template_path, user_path):\n",
    "    user_path = Path(user_path).expanduser().absolute()\n",
    "    for i in user_path.glob('*'):\n",
    "        if i.is_dir():\n",
    "            symlink_path = Path(template_path/i.name)\n",
    "            try:\n",
    "                symlink_path.symlink_to(i)\n",
    "                print(f'added template {i}')\n",
    "            except FileExistsError:\n",
    "                print(f'skipping \"{i.name}\": a template with this name already exists')"
   ]
  },
  {
   "cell_type": "code",
   "execution_count": null,
   "metadata": {},
   "outputs": [],
   "source": [
    "def list_templates(template_path):\n",
    "    print(f'\\navailable user-defined templates in {template_path}:')\n",
    "    for i in template_path.glob('*'):\n",
    "        print(f'  * {i.name}')"
   ]
  },
  {
   "cell_type": "code",
   "execution_count": 44,
   "metadata": {},
   "outputs": [],
   "source": [
    "def main():\n",
    "    \n",
    "    # run nbconvert using a custom template -- if the template isn't found, prompt to install\n",
    "    # work around for no apparent way to specify custom paths to templates https://github.com/jupyter/nbconvert/issues/1428\n",
    "    template_path = Path(paths.jupyter_data_dir())/'nbconvert/templates/'\n",
    "    app_name = Path(sys.argv[0]).name\n",
    "    \n",
    "    \n",
    "    help_epilog = f'''\n",
    "    EXAMPLES:\n",
    "    Basic conversion of notebook to python using a custom template\n",
    "        $ {app_name} --template python_clean foo.ipynb\n",
    "    \n",
    "    Convert notebook to markdown\n",
    "        $ {app_name} --to markdown bar.ipynb\n",
    "    \n",
    "    Convert notebook to python using a custom template and alternate output directory\n",
    "        $ {app_name} --template python_clean --output_dir ./spam/ham monty.ipynb\n",
    "    '''\n",
    "    \n",
    "    parser = argparse.ArgumentParser(description='convert jupyter notebooks using custom tempaltes',\n",
    "                                    epilog=help_epilog,\n",
    "                                    formatter_class=argparse.RawDescriptionHelpFormatter)\n",
    "\n",
    "    parser.add_argument('-f', '--input_file', help='notebook file to convert', default=None)\n",
    "    parser.add_argument('-t', '--template', help=f'choose from a custom template stored in {template_path}', \n",
    "                        default=None)\n",
    "    parser.add_argument('-o', '--output_dir', default=None)\n",
    "    parser.add_argument('-l', '--list', action='store_true', \n",
    "                        help='list the available user-defined templates and exit', \n",
    "                        default=False)\n",
    "    parser.add_argument('--to', default='python',\n",
    "                        help=\"convert notebook to format [python*, html, latex, pdf, webpdf, slides, mardown, ascidoc, rst, script, notebook] *default\")\n",
    "    parser.add_argument('-i', '--install_templates', metavar='/path/to/custom_templates',\n",
    "                        help=f'symlink templates from directory into {template_path} and exit', \n",
    "                        default=None)\n",
    "    \n",
    "    args, unknown_args = parser.parse_known_args()\n",
    "    \n",
    "    if len(unknown_args) > 0:\n",
    "        print(f'unknown arguments: {unknown_args}')\n",
    "        parser.print_help()\n",
    "        return 1\n",
    "    \n",
    "        \n",
    "    if args.list:\n",
    "        list_template(template_path)\n",
    "        return 0\n",
    "    \n",
    "    if args.install_templates:\n",
    "        install_templates(template_path, Path(args.install_templates))\n",
    "        return 0\n",
    "\n",
    "    if args.input_file:\n",
    "        input_file = Path(args.input_file).expanduser().absolute()\n",
    "    else:\n",
    "        parser.print_help()\n",
    "        return 0\n",
    "    \n",
    "    \n",
    "    if not input_file.exists():\n",
    "        print(f'{input_file} not found')\n",
    "        return 1\n",
    "    \n",
    "    if args.output_dir:\n",
    "        output_dir = args.output_dir\n",
    "    else:\n",
    "        output_dir = input_file.parent\n",
    "    \n",
    "    try:\n",
    "        template = template_path/args.template\n",
    "    except TypeError:\n",
    "        template = None\n",
    "        \n",
    "    if template:\n",
    "        if not template.exists():\n",
    "            print(f'template \"{args.template}\" does not exist')\n",
    "            print(f'try adding the template \"{args.template}\" to {template_path}')\n",
    "            list_templates(template_path)\n",
    "\n",
    "            return 1\n",
    "\n",
    "\n",
    "    # build exec_string\n",
    "    flags = ['jupyter-nbconvert', f'--to {args.to}']\n",
    "\n",
    "    if template:\n",
    "        flags.append(f'--template {template}')\n",
    "    if output_dir:\n",
    "        flags.append(f'--output-dir {output_dir}')\n",
    "    \n",
    "    flags.append(str(input_file))\n",
    "    \n",
    "    exec_string = \" \".join(flags)\n",
    "    \n",
    "    print(exec_string)\n",
    "\n",
    "    exec_args = shlex.split(exec_string)\n",
    "    execute = subprocess.Popen(exec_args, stdout=subprocess.PIPE, stderr=subprocess.PIPE)\n",
    "    print(execute.communicate()[0])\n",
    "    print(execute.communicate()[1])\n",
    "    return(execute.returncode)"
   ]
  },
  {
   "cell_type": "code",
   "execution_count": 14,
   "metadata": {},
   "outputs": [
    {
     "name": "stdout",
     "output_type": "stream",
     "text": [
      "usage: ipykernel_launcher.py [-h] [-t TEMPLATE] [-o OUTPUT_DIR] [--to TO]\n",
      "                             input_file\n",
      "\n",
      "convert jupyter notebooks using custom tempaltes\n",
      "\n",
      "positional arguments:\n",
      "  input_file            notebook file to convert -- required\n",
      "\n",
      "optional arguments:\n",
      "  -h, --help            show this help message and exit\n",
      "  -t TEMPLATE, --template TEMPLATE\n",
      "                        choose from a custom template stored in\n",
      "                        /Users/aaronciuffo/Library/Jupyter/nbconvert/templates\n",
      "  -o OUTPUT_DIR, --output_dir OUTPUT_DIR\n",
      "  --to TO               convert notebook to format [python*, html, latex, pdf,\n",
      "                        webpdf, slides, mardown, ascidoc, rst, script,\n",
      "                        notebook] *default\n",
      "\n",
      "    EXAMPLES:\n",
      "    Basic conversion of notebook to python using a custom template\n",
      "        $ /Users/aaronciuffo/.pyenv/versions/3.8.5/Python.framework/Versions/3.8/lib/python3.8/site-packages/ipykernel_launcher.py --template python_clean foo.ipynb\n",
      "    \n",
      "    Convert notebook to markdown\n",
      "        $ /Users/aaronciuffo/.pyenv/versions/3.8.5/Python.framework/Versions/3.8/lib/python3.8/site-packages/ipykernel_launcher.py --to markdown bar.ipynb\n",
      "    \n",
      "    Convert notebook to python using a custom template and alternate output directory\n",
      "        $ /Users/aaronciuffo/.pyenv/versions/3.8.5/Python.framework/Versions/3.8/lib/python3.8/site-packages/ipykernel_launcher.py --template python_clean --output_dir ./spam/ham monty.ipynb\n",
      "    \n"
     ]
    },
    {
     "ename": "SystemExit",
     "evalue": "0",
     "output_type": "error",
     "traceback": [
      "An exception has occurred, use %tb to see the full traceback.\n",
      "\u001b[0;31mSystemExit\u001b[0m\u001b[0;31m:\u001b[0m 0\n"
     ]
    }
   ],
   "source": [
    "if __name__ == \"__main__\":\n",
    "    exit_code = main()\n",
    "    if exit_code > 0:\n",
    "        print('errors were encountered')\n",
    "        exit(exit_code)"
   ]
  },
  {
   "cell_type": "code",
   "execution_count": 10,
   "metadata": {},
   "outputs": [
    {
     "data": {
      "text/plain": [
       "['/Users/aaronciuffo/.pyenv/versions/3.8.5/Python.framework/Versions/3.8/lib/python3.8/site-packages/ipykernel_launcher.py']"
      ]
     },
     "execution_count": 10,
     "metadata": {},
     "output_type": "execute_result"
    }
   ],
   "source": [
    "# sys.argv\n",
    "# sys.argv = sys.argv[:-2]\n",
    "# sys.argv.extend(['-h'])"
   ]
  },
  {
   "cell_type": "code",
   "execution_count": 11,
   "metadata": {},
   "outputs": [],
   "source": []
  },
  {
   "cell_type": "code",
   "execution_count": 6,
   "metadata": {},
   "outputs": [],
   "source": []
  },
  {
   "cell_type": "code",
   "execution_count": null,
   "metadata": {},
   "outputs": [],
   "source": []
  }
 ],
 "metadata": {
  "kernelspec": {
   "display_name": "Python 3",
   "language": "python",
   "name": "python3"
  },
  "language_info": {
   "codemirror_mode": {
    "name": "ipython",
    "version": 3
   },
   "file_extension": ".py",
   "mimetype": "text/x-python",
   "name": "python",
   "nbconvert_exporter": "python",
   "pygments_lexer": "ipython3",
   "version": "3.8.5"
  }
 },
 "nbformat": 4,
 "nbformat_minor": 4
}
